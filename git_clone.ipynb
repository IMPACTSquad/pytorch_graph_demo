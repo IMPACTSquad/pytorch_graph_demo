{
  "cells": [
    {
      "cell_type": "markdown",
      "id": "c9d8d0e8-01f0-48d5-aa45-120618e902ab",
      "metadata": {
        "id": "c9d8d0e8-01f0-48d5-aa45-120618e902ab"
      },
      "source": [
        "## \\*\\*NOTE: Notebook to be run on Google Collab**"
      ]
    },
    {
      "cell_type": "code",
      "execution_count": 13,
      "id": "d23383e7-3ec3-4957-a506-a3c82906609f",
      "metadata": {
        "id": "d23383e7-3ec3-4957-a506-a3c82906609f",
        "outputId": "a7d86dc4-3c68-4167-a658-60cb1240c4d8",
        "colab": {
          "base_uri": "https://localhost:8080/"
        }
      },
      "outputs": [
        {
          "output_type": "stream",
          "name": "stdout",
          "text": [
            "Mounted at /content/gdrive\n"
          ]
        }
      ],
      "source": [
        "from google.colab import drive\n",
        "drive.mount('/content/gdrive')"
      ]
    },
    {
      "cell_type": "code",
      "execution_count": 17,
      "id": "9edb91af-448d-4859-a883-e23e6d7eb87f",
      "metadata": {
        "id": "9edb91af-448d-4859-a883-e23e6d7eb87f",
        "outputId": "cf07d7d8-9b04-442f-def7-0a2887893cb8",
        "colab": {
          "base_uri": "https://localhost:8080/"
        }
      },
      "outputs": [
        {
          "output_type": "stream",
          "name": "stdout",
          "text": [
            "/content/20240216_demo\n"
          ]
        }
      ],
      "source": [
        "%mkdir 20240216_demo\n",
        "%cd 20240216_demo"
      ]
    },
    {
      "cell_type": "code",
      "execution_count": 20,
      "id": "7b889df8-57da-429c-8c69-eb2d8f0cd5bd",
      "metadata": {
        "id": "7b889df8-57da-429c-8c69-eb2d8f0cd5bd",
        "outputId": "3ee1f911-64a9-4269-a582-2ef1b30de678",
        "colab": {
          "base_uri": "https://localhost:8080/"
        }
      },
      "outputs": [
        {
          "output_type": "stream",
          "name": "stdout",
          "text": [
            "Cloning into 'pytorch_graph_demo'...\n",
            "remote: Enumerating objects: 2263, done.\u001b[K\n",
            "remote: Counting objects: 100% (28/28), done.\u001b[K\n",
            "remote: Compressing objects: 100% (21/21), done.\u001b[K\n",
            "remote: Total 2263 (delta 8), reused 26 (delta 6), pack-reused 2235\u001b[K\n",
            "Receiving objects: 100% (2263/2263), 57.72 MiB | 27.07 MiB/s, done.\n",
            "Resolving deltas: 100% (12/12), done.\n"
          ]
        }
      ],
      "source": [
        "! git clone https://github.com/IMPACTSquad/pytorch_graph_demo.git"
      ]
    },
    {
      "cell_type": "code",
      "source": [
        "%cd pytorch_graph_demo\n",
        "%ls"
      ],
      "metadata": {
        "id": "-ORfA8ByCbtJ",
        "outputId": "137c74d7-398c-4162-a0cb-905d91abfb02",
        "colab": {
          "base_uri": "https://localhost:8080/"
        }
      },
      "id": "-ORfA8ByCbtJ",
      "execution_count": 21,
      "outputs": [
        {
          "output_type": "stream",
          "name": "stdout",
          "text": [
            "/content/20240216_demo/pytorch_graph_demo\n",
            "classification.py  git_clone.ipynb  \u001b[0m\u001b[01;34mmodels\u001b[0m/         regression.py  utils.py\n",
            "\u001b[01;34mdata\u001b[0m/              Graph.py         notebook.ipynb  train.py\n"
          ]
        }
      ]
    },
    {
      "cell_type": "code",
      "source": [],
      "metadata": {
        "id": "LHhAi-m5CkOA"
      },
      "id": "LHhAi-m5CkOA",
      "execution_count": null,
      "outputs": []
    }
  ],
  "metadata": {
    "kernelspec": {
      "display_name": "Python 3 (ipykernel)",
      "language": "python",
      "name": "python3"
    },
    "language_info": {
      "codemirror_mode": {
        "name": "ipython",
        "version": 3
      },
      "file_extension": ".py",
      "mimetype": "text/x-python",
      "name": "python",
      "nbconvert_exporter": "python",
      "pygments_lexer": "ipython3",
      "version": "3.11.5"
    },
    "colab": {
      "provenance": []
    }
  },
  "nbformat": 4,
  "nbformat_minor": 5
}