{
 "cells": [
  {
   "cell_type": "markdown",
   "id": "c9d8d0e8-01f0-48d5-aa45-120618e902ab",
   "metadata": {
    "id": "c9d8d0e8-01f0-48d5-aa45-120618e902ab"
   },
   "source": [
    "## \\*\\*NOTE: Notebook to be run on Google Collab**"
   ]
  },
  {
   "cell_type": "markdown",
   "id": "Rx8VAw4BC6EH",
   "metadata": {
    "id": "Rx8VAw4BC6EH"
   },
   "source": [
    "Connect to your Google Drive (we will clone repository there):"
   ]
  },
  {
   "cell_type": "code",
   "execution_count": null,
   "id": "d23383e7-3ec3-4957-a506-a3c82906609f",
   "metadata": {
    "id": "d23383e7-3ec3-4957-a506-a3c82906609f"
   },
   "outputs": [],
   "source": [
    "from google.colab import drive\n",
    "drive.mount('/content/gdrive')"
   ]
  },
  {
   "cell_type": "markdown",
   "id": "85bwd7-nC-mv",
   "metadata": {
    "id": "85bwd7-nC-mv"
   },
   "source": [
    "Make a folder (\"20240216_demo\") to store demonstration-related files in:"
   ]
  },
  {
   "cell_type": "code",
   "execution_count": null,
   "id": "9edb91af-448d-4859-a883-e23e6d7eb87f",
   "metadata": {
    "id": "9edb91af-448d-4859-a883-e23e6d7eb87f"
   },
   "outputs": [],
   "source": [
    "%cd /content/gdrive/MyDrive\n",
    "%mkdir 20240216_demo\n",
    "%cd 20240216_demo"
   ]
  },
  {
   "cell_type": "markdown",
   "id": "O1lyj1mdDFa6",
   "metadata": {
    "id": "O1lyj1mdDFa6"
   },
   "source": [
    "Clone repository in there:"
   ]
  },
  {
   "cell_type": "code",
   "execution_count": null,
   "id": "7b889df8-57da-429c-8c69-eb2d8f0cd5bd",
   "metadata": {
    "id": "7b889df8-57da-429c-8c69-eb2d8f0cd5bd"
   },
   "outputs": [],
   "source": [
    "! git clone https://github.com/IMPACTSquad/pytorch_graph_demo.git"
   ]
  },
  {
   "cell_type": "markdown",
   "id": "K7TUIq-sDJFm",
   "metadata": {
    "id": "K7TUIq-sDJFm"
   },
   "source": [
    "Check inside for the cloned files:"
   ]
  },
  {
   "cell_type": "code",
   "execution_count": null,
   "id": "-ORfA8ByCbtJ",
   "metadata": {
    "id": "-ORfA8ByCbtJ"
   },
   "outputs": [],
   "source": [
    "%cd pytorch_graph_demo\n",
    "%ls"
   ]
  }
 ],
 "metadata": {
  "colab": {
   "provenance": []
  },
  "kernelspec": {
   "display_name": "Python 3 (ipykernel)",
   "language": "python",
   "name": "python3"
  },
  "language_info": {
   "codemirror_mode": {
    "name": "ipython",
    "version": 3
   },
   "file_extension": ".py",
   "mimetype": "text/x-python",
   "name": "python",
   "nbconvert_exporter": "python",
   "pygments_lexer": "ipython3",
   "version": "3.11.5"
  }
 },
 "nbformat": 4,
 "nbformat_minor": 5
}
