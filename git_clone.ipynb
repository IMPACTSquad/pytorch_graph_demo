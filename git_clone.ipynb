{
 "cells": [
  {
   "cell_type": "markdown",
   "id": "c9d8d0e8-01f0-48d5-aa45-120618e902ab",
   "metadata": {
    "id": "c9d8d0e8-01f0-48d5-aa45-120618e902ab"
   },
   "source": [
    "## \\*\\*NOTE: Notebook to be run on Google Collab**"
   ]
  },
  {
   "cell_type": "markdown",
   "id": "Rx8VAw4BC6EH",
   "metadata": {
    "id": "Rx8VAw4BC6EH"
   },
   "source": [
    "Connect to your Google Drive (we will clone repository there):"
   ]
  },
  {
   "cell_type": "code",
   "execution_count": null,
   "id": "d23383e7-3ec3-4957-a506-a3c82906609f",
   "metadata": {
    "id": "d23383e7-3ec3-4957-a506-a3c82906609f"
   },
   "outputs": [],
   "source": [
    "from google.colab import drive\n",
    "drive.mount('/content/drive')"
   ]
  },
  {
   "cell_type": "markdown",
   "id": "85bwd7-nC-mv",
   "metadata": {
    "id": "85bwd7-nC-mv"
   },
   "source": [
    "Make a folder (\"20240216_demo\") to store demonstration-related files in:"
   ]
  },
  {
   "cell_type": "code",
   "execution_count": null,
   "id": "9edb91af-448d-4859-a883-e23e6d7eb87f",
   "metadata": {
    "id": "9edb91af-448d-4859-a883-e23e6d7eb87f"
   },
   "outputs": [],
   "source": [
    "%cd /content/drive/MyDrive\n",
    "%mkdir 20240216_demo\n",
    "%cd 20240216_demo"
   ]
  },
  {
   "cell_type": "markdown",
   "id": "O1lyj1mdDFa6",
   "metadata": {
    "id": "O1lyj1mdDFa6"
   },
   "source": [
    "Clone repository in there:"
   ]
  },
  {
   "cell_type": "code",
   "execution_count": null,
   "id": "7b889df8-57da-429c-8c69-eb2d8f0cd5bd",
   "metadata": {
    "id": "7b889df8-57da-429c-8c69-eb2d8f0cd5bd"
   },
   "outputs": [],
   "source": [
    "! git clone https://github.com/IMPACTSquad/pytorch_graph_demo.git"
   ]
  },
  {
   "cell_type": "markdown",
   "id": "K7TUIq-sDJFm",
   "metadata": {
    "id": "K7TUIq-sDJFm"
   },
   "source": [
    "Check inside for the cloned files:"
   ]
  },
  {
   "cell_type": "code",
   "execution_count": null,
   "id": "-ORfA8ByCbtJ",
   "metadata": {
    "id": "-ORfA8ByCbtJ"
   },
   "outputs": [],
   "source": [
    "%cd pytorch_graph_demo\n",
    "%ls"
   ]
  },
  {
   "cell_type": "markdown",
   "id": "adc3fd32-66de-4d5c-8529-49dd13f6d508",
   "metadata": {},
   "source": [
    "## Python virtual environment"
   ]
  },
  {
   "cell_type": "code",
   "execution_count": null,
   "id": "352adbf9-f28d-4d2e-b7fa-56a5dfc0854e",
   "metadata": {},
   "outputs": [],
   "source": [
    "!apt install python3.10-venv\n",
    "!python -m venv /content/drive/MyDrive/20240216_demo/pytorch_graph_demo/environment"
   ]
  },
  {
   "cell_type": "code",
   "execution_count": null,
   "id": "be5bb75a-3bdf-4327-b58a-20eab98d93fd",
   "metadata": {},
   "outputs": [],
   "source": [
    "import sys\n",
    "env_dir = \"/content/drive/MyDrive/20240216_demo/pytorch_graph_demo/environment/lib/python3.10/site-packages\"\n",
    "sys.path = [env_dir, \"\"]"
   ]
  },
  {
   "cell_type": "code",
   "execution_count": null,
   "id": "7e6ae3e7-ab42-401c-b568-27bb994f58b1",
   "metadata": {},
   "outputs": [],
   "source": [
    "!pip install -t $env_dir notebook\n",
    "!pip install -t $env_dir torch==2.1.2 torchvision==0.16.2 torchaudio==2.1.2 --index-url https://download.pytorch.org/whl/cpu\n",
    "!pip install -t $env_dir torch_geometric\n",
    "!pip install -t $env_dir torch_scatter torch_sparse torch_cluster torch_spline_conv -f https://data.pyg.org/whl/torch-2.1.0+cpu.html\n",
    "!pip install -t $env_dir matplotlib\n",
    "!pip install -t $env_dir rasterio"
   ]
  },
  {
   "cell_type": "markdown",
   "id": "0bbe2e77-35c9-45a6-bea2-78ef04723c8c",
   "metadata": {},
   "source": [
    "### Check installs"
   ]
  },
  {
   "cell_type": "code",
   "execution_count": null,
   "id": "2c9d8633-9b57-496a-807e-e03d76e015b8",
   "metadata": {},
   "outputs": [],
   "source": [
    "import importlib\n",
    "\n",
    "libraries = [\n",
    "    \"notebook\",\n",
    "    \"torch\",\n",
    "    \"torch_cluster\",\n",
    "    \"numpy\",\n",
    "    \"torch_geometric\",\n",
    "    \"matplotlib\",\n",
    "    \"rasterio\",\n",
    "    \"glob\"\n",
    "]\n",
    "\n",
    "for lib in libraries:\n",
    "    try:\n",
    "        if not importlib.util.find_spec(lib):\n",
    "            raise ImportError(\"Package '%s' is not installed\" % lib)\n",
    "    except ImportError as e:\n",
    "        print(e)"
   ]
  }
 ],
 "metadata": {
  "colab": {
   "provenance": []
  },
  "kernelspec": {
   "display_name": "Python 3 (ipykernel)",
   "language": "python",
   "name": "python3"
  },
  "language_info": {
   "codemirror_mode": {
    "name": "ipython",
    "version": 3
   },
   "file_extension": ".py",
   "mimetype": "text/x-python",
   "name": "python",
   "nbconvert_exporter": "python",
   "pygments_lexer": "ipython3",
   "version": "3.9.18"
  }
 },
 "nbformat": 4,
 "nbformat_minor": 5
}
