{
 "cells": [
  {
   "cell_type": "markdown",
   "id": "3455ac9c",
   "metadata": {},
   "source": [
    "# Setting up Python library - Installing dependencies"
   ]
  },
  {
   "cell_type": "markdown",
   "id": "28db33d8",
   "metadata": {},
   "source": [
    "```pip install notebook```\n",
    "\n",
    "[Pytorch installation](https://pytorch.org/get-started/locally/)\n",
    "\n",
    "[PyG installation](https://pytorch-geometric.readthedocs.io/en/latest/install/installation.html) and dependencies: ```pip install torch_scatter torch_sparse torch_cluster torch_spline_conv -f https://data.pyg.org/whl/torch-2.1.0+cpu.html```\n",
    "\n",
    "```pip install matplotlib```\n",
    "\n",
    "```pip install rasterio```"
   ]
  },
  {
   "cell_type": "code",
   "execution_count": null,
   "id": "ae61f7b1",
   "metadata": {},
   "outputs": [],
   "source": [
    "import importlib\n",
    "\n",
    "libraries = [\n",
    "    \"notebook\",\n",
    "    \"torch\",\n",
    "    \"torch_cluster\",\n",
    "    \"numpy\",\n",
    "    \"torch_geometric\",\n",
    "    \"matplotlib\",\n",
    "    \"rasterio\",\n",
    "    \"glob\"\n",
    "]\n",
    "\n",
    "for lib in libraries:\n",
    "    try:\n",
    "        if not importlib.util.find_spec(lib):\n",
    "            # raise ImportError(\"Package '%s' is not installed\" % lib)\n",
    "            !pip install lib\n",
    "    except ImportError as e:\n",
    "        print(e)"
   ]
  },
  {
   "cell_type": "markdown",
   "id": "e75b3bc0",
   "metadata": {},
   "source": [
    "# PyG"
   ]
  },
  {
   "cell_type": "markdown",
   "id": "bf79e2d7",
   "metadata": {},
   "source": [
    "[PyG](https://pytorch-geometric.readthedocs.io/en/latest/index.html) (PyTorch Geometric) is a library built upon  [PyTorch](https://pytorch.org/) to easily write and train Graph Neural Networks (GNNs) for a wide range of applications related to structured data."
   ]
  },
  {
   "cell_type": "markdown",
   "id": "2746a991",
   "metadata": {},
   "source": [
    "PyG provides two abstract classes for datasets: `torch_geometric.data.Dataset` and `torch_geometric.data.InMemoryDataset`.\n",
    "\n",
    "The [latter](https://pytorch-geometric.readthedocs.io/en/latest/generated/torch_geometric.data.InMemoryDataset.html#torch_geometric.data.InMemoryDataset) inherits from the former and is designed to be used when your dataset fits into CPU memory."
   ]
  },
  {
   "cell_type": "markdown",
   "id": "8d1f9e08",
   "metadata": {},
   "source": [
    "In this session we will use a class which has been written to inherit from `torch_geometric.data.InMemoryDataset` to load our remote sensing dataset."
   ]
  },
  {
   "cell_type": "markdown",
   "id": "c18d4150",
   "metadata": {},
   "source": [
    "We use two classes (found in the `Graph.py` file in this repository)\n",
    "\n",
    "* `AirQualityClassification`\n",
    "* `AirQualityRegression`\n"
   ]
  },
  {
   "cell_type": "code",
   "execution_count": 2,
   "id": "ca431d2e",
   "metadata": {},
   "outputs": [],
   "source": [
    "import torch_geometric.transforms as T\n",
    "\n",
    "from Graph import AirQualityClassification, AirQualityRegression"
   ]
  },
  {
   "cell_type": "code",
   "execution_count": 3,
   "id": "d3af9fca",
   "metadata": {},
   "outputs": [
    {
     "name": "stderr",
     "output_type": "stream",
     "text": [
      "Processing...\n",
      "Done!\n"
     ]
    }
   ],
   "source": [
    "aq_regression = AirQualityRegression(\n",
    "    seed=0, pre_transform=T.KNNGraph(k=10, force_undirected=True), train_ratio=0.2, val_ratio=0.1\n",
    ")"
   ]
  },
  {
   "cell_type": "code",
   "execution_count": 4,
   "id": "c9acff5a",
   "metadata": {},
   "outputs": [
    {
     "name": "stderr",
     "output_type": "stream",
     "text": [
      "Processing...\n",
      "Done!\n"
     ]
    }
   ],
   "source": [
    "aq_classification = AirQualityClassification(\n",
    "    seed=0, pre_transform=T.KNNGraph(k=10, force_undirected=True), train_ratio=0.2, val_ratio=0.1\n",
    ")"
   ]
  },
  {
   "cell_type": "markdown",
   "id": "7be23e40",
   "metadata": {},
   "source": [
    "When we create an instance of our class (as performed above), because it is based on the `torch_geometric.data.InMemoryDataset` class, it performs two key operations:\n",
    "\n",
    "* If any of the files in `InMemoryDataset.raw_file_names()` are missing, then the `InMemoryDataset.download()` method is performed\n",
    "\n",
    "* If any of the files in `InMemoryDataset.processed_file_names()` are missing, then the `InMemoryDataset.process()` method is performed"
   ]
  },
  {
   "cell_type": "markdown",
   "id": "79ae2216",
   "metadata": {},
   "source": [
    "Because we have already have the remote sensing input files downloaded in this repository (inside `data` folder) you will notice that neither `AirQualityRegression` or `AirQualityClassification` provide a `download()` method or a `raw_file_names` property. Nothing happens for that part in our example."
   ]
  },
  {
   "cell_type": "code",
   "execution_count": 5,
   "id": "62a8caec",
   "metadata": {},
   "outputs": [
    {
     "name": "stdout",
     "output_type": "stream",
     "text": [
      "False\n",
      "False\n"
     ]
    }
   ],
   "source": [
    "print(aq_regression.has_download)\n",
    "print(aq_classification.has_download)"
   ]
  },
  {
   "cell_type": "markdown",
   "id": "803d0544",
   "metadata": {},
   "source": [
    "We do provide processing steps though. These load the inputs and define how we get our dataset graph's:\n",
    "\n",
    "* `x` input features\n",
    "* `y` output values/labels\n",
    "* `edge_index` (describes how graph nodes are connected i.e. could be used to find graph adjacency matrix)"
   ]
  },
  {
   "cell_type": "markdown",
   "id": "6fbbb67f",
   "metadata": {},
   "source": [
    "> **To apply a similar approach to your own datasets you can borrow from the classes in `Graph.py` and write new/modified `process()` methods.**"
   ]
  },
  {
   "cell_type": "markdown",
   "id": "507caacd",
   "metadata": {},
   "source": [
    "The code inside the `process` function should write file(s) returned in `InMemoryDataset.processed_file_names()` list. The next time you create an instance of the class it will load from file rather than running `process()` again."
   ]
  },
  {
   "cell_type": "markdown",
   "id": "34f84ca3",
   "metadata": {},
   "source": [
    "## Loading our classification dataset: the `process()` method"
   ]
  },
  {
   "cell_type": "markdown",
   "id": "48f3f13c",
   "metadata": {},
   "source": [
    "We use two functions written in the repository's `utils.py` file:\n",
    "\n",
    "* `utils.open_pm25()`\n",
    "* `utils.open_land_cover()`"
   ]
  },
  {
   "cell_type": "markdown",
   "id": "feb5022c",
   "metadata": {},
   "source": [
    "### Inputs (air quality values)"
   ]
  },
  {
   "cell_type": "code",
   "execution_count": 6,
   "id": "53fbd04f",
   "metadata": {},
   "outputs": [],
   "source": [
    "import utils\n",
    "\n",
    "pm25 = utils.open_pm25()"
   ]
  },
  {
   "cell_type": "code",
   "execution_count": 7,
   "id": "869b51c6",
   "metadata": {},
   "outputs": [
    {
     "name": "stdout",
     "output_type": "stream",
     "text": [
      "(45, 65, 2208)\n"
     ]
    }
   ],
   "source": [
    "print(pm25.shape)"
   ]
  },
  {
   "cell_type": "markdown",
   "id": "28b20d17",
   "metadata": {},
   "source": [
    "In this case we are loading [CAMS data](https://atmosphere.copernicus.eu/cams-air-quality-data-quality-assured) (a forecast) for the surface level PM2.5 concentration.\n",
    "\n",
    "These files are found in the folder `data/PM2_5`."
   ]
  },
  {
   "cell_type": "markdown",
   "id": "b4425134",
   "metadata": {},
   "source": [
    "For each `.tif` file in the folder we have a matrix of PM2.5 concentrations over a region in North Italy. There is a file for each hour of the day for 92 days.\n",
    "\n",
    "The data is quite coarse (each pixel represents 10x10km area) so each matrix is of shape 45x65 and we have 2208 temporal data points. The result is an array of shape 45x65x2208."
   ]
  },
  {
   "cell_type": "code",
   "execution_count": 8,
   "id": "2dc4b88e",
   "metadata": {},
   "outputs": [],
   "source": [
    "import matplotlib.pyplot as plt"
   ]
  },
  {
   "cell_type": "markdown",
   "id": "76aaf96b",
   "metadata": {},
   "source": [
    "Time series visualisation:"
   ]
  },
  {
   "cell_type": "code",
   "execution_count": 9,
   "id": "6804ac86",
   "metadata": {},
   "outputs": [
    {
     "data": {
      "text/plain": [
       "Text(0, 0.5, 'PM2.5 concentration')"
      ]
     },
     "execution_count": 9,
     "metadata": {},
     "output_type": "execute_result"
    },
    {
     "data": {
      "image/png": "[encoded data removed]",
      "text/plain": [
       "<Figure size 432x288 with 1 Axes>"
      ]
     },
     "metadata": {
      "needs_background": "light"
     },
     "output_type": "display_data"
    }
   ],
   "source": [
    "for series in pm25.reshape(-1, pm25.shape[-1])[:10]:\n",
    "    plt.plot(series, lw=.1, marker='x')\n",
    "plt.xlim(0, 10)\n",
    "plt.xlabel(\"Hour\")\n",
    "plt.ylabel(\"PM2.5 concentration\")"
   ]
  },
  {
   "cell_type": "markdown",
   "id": "2aae288e",
   "metadata": {},
   "source": [
    "Single time stamp (i.e. region of North Italy)"
   ]
  },
  {
   "cell_type": "code",
   "execution_count": 10,
   "id": "3820fdaf",
   "metadata": {},
   "outputs": [
    {
     "data": {
      "text/plain": [
       "<matplotlib.colorbar.Colorbar at 0x7f59645a15e0>"
      ]
     },
     "execution_count": 10,
     "metadata": {},
     "output_type": "execute_result"
    },
    {
     "data": {
      "image/png": "[encoded data removed]",
      "text/plain": [
       "<Figure size 416x288 with 2 Axes>"
      ]
     },
     "metadata": {
      "needs_background": "light"
     },
     "output_type": "display_data"
    }
   ],
   "source": [
    "mappable = plt.matshow(pm25[..., -1])\n",
    "plt.colorbar(mappable)"
   ]
  },
  {
   "cell_type": "markdown",
   "id": "38b903bc",
   "metadata": {},
   "source": [
    "### Outputs (land cover classes)"
   ]
  },
  {
   "cell_type": "code",
   "execution_count": 11,
   "id": "08a0aefe",
   "metadata": {},
   "outputs": [
    {
     "name": "stdout",
     "output_type": "stream",
     "text": [
      "(45, 65)\n"
     ]
    }
   ],
   "source": [
    "land_cover = utils.open_land_cover()\n",
    "print(land_cover.shape)"
   ]
  },
  {
   "cell_type": "markdown",
   "id": "db9e5a66",
   "metadata": {},
   "source": [
    "In this demonstration we are going to try and predict a land cover class label from our air quality time series. The labels in this case are provided by the Copernicus Land cover products ([CORINE](https://land.copernicus.eu/en/products/corine-land-cover)).\n",
    "\n",
    "The CORINE product is available at different levels i.e. how specific/broad each land cover class is. Here we are considering the Level 2 classes."
   ]
  },
  {
   "cell_type": "code",
   "execution_count": 12,
   "id": "2230308b",
   "metadata": {},
   "outputs": [
    {
     "name": "stdout",
     "output_type": "stream",
     "text": [
      "Urban fabric\n",
      "Industrial commercial and transport units\n",
      "Mine dump and construction sites\n",
      "Artificial non-agricultural vegetated areas\n",
      "Arable land\n",
      "Permanent crops\n",
      "Pastures\n",
      "Heterogeneous agricultural areas\n",
      "Forests\n",
      "Shrub and/or herbaceous vegetation associations\n",
      "Open spaces with little or no vegetation\n",
      "Inland wetlands\n",
      "Coastal wetlands\n",
      "Inland waters\n",
      "Marine waters\n"
     ]
    }
   ],
   "source": [
    "land_cover_labels = utils.open_land_cover_colormap()\n",
    "for key in land_cover_labels.keys():\n",
    "    print(key)"
   ]
  },
  {
   "cell_type": "code",
   "execution_count": 13,
   "id": "ddf54064",
   "metadata": {},
   "outputs": [
    {
     "name": "stdout",
     "output_type": "stream",
     "text": [
      "Predicting one of 15 classes\n"
     ]
    }
   ],
   "source": [
    "print(f\"Predicting one of {len(land_cover_labels)} classes\")"
   ]
  },
  {
   "cell_type": "markdown",
   "id": "3263a2aa",
   "metadata": {},
   "source": [
    "### Variable normalisation"
   ]
  },
  {
   "cell_type": "markdown",
   "id": "94e9d10a",
   "metadata": {},
   "source": [
    "In this example our input features (PM2.5 concentrations) vary from about 0 to 40.\n",
    "\n",
    "Generally speaking, it is good practice to perform normalisation of your data before you start optimising your model parameters. Without normalisation you might run into a number of issues with exploding gradients and generally poor convergence.\n",
    "\n",
    "There are many [excellent resources](https://machinelearningmastery.com/how-to-improve-neural-network-stability-and-modeling-performance-with-data-scaling/) out there which discuss this topic in greater detail.\n",
    "\n",
    "If you look in `AirQualityRegression.process()` or `AirQualityClassification.process()` you will see I perform a min/max scaling to keep variables in the range 0 to 1. This method is sensitive to outliers so you may want to consider other more robust normalisation methods in your own research."
   ]
  },
  {
   "cell_type": "markdown",
   "id": "b3875cc4",
   "metadata": {},
   "source": [
    "## The graph"
   ]
  },
  {
   "cell_type": "markdown",
   "id": "60da839d",
   "metadata": {},
   "source": [
    "Inside `AirQualityRegression.process()` and `AirQualityClassification.process()` we use `torch_geometric.data`'s `Data` class.\n",
    "\n",
    "This is the object which is eventually written to a file.\n",
    "\n",
    "In our application we provide three arguments:\n",
    "\n",
    "* `pos`\n",
    "* `x`\n",
    "* `y`\n",
    "\n",
    "We don't actually provide the graph connections here. It is possible, if you have edges you would explicitly like to use to pass them using the `edge_index` argument rather than `pos` here."
   ]
  },
  {
   "cell_type": "markdown",
   "id": "54a3002c",
   "metadata": {},
   "source": [
    "When we loaded the dataset you will notice we passed a `pre_transform` argument:"
   ]
  },
  {
   "cell_type": "code",
   "execution_count": 14,
   "id": "c9dd8f5d",
   "metadata": {},
   "outputs": [],
   "source": [
    "aq_classification = AirQualityClassification(\n",
    "    seed=0, pre_transform=T.KNNGraph(k=10, force_undirected=True), train_ratio=0.2, val_ratio=0.1\n",
    ")"
   ]
  },
  {
   "cell_type": "markdown",
   "id": "2c340375",
   "metadata": {},
   "source": [
    "`T.KNNGraph(k=10, force_undirected=True)` describes how the graph is connected. The [docs](https://pytorch-geometric.readthedocs.io/en/latest/generated/torch_geometric.transforms.KNNGraph.html#torch_geometric.transforms.KNNGraph) describe that it \"creates a k-NN graph based on node positions data.pos\"\n",
    "\n",
    "i.e. if you plotted each node's pos in space, you create a graph edge connecting each node to the k other nodes near it, in this case, the nearest 10 neighbours."
   ]
  },
  {
   "cell_type": "markdown",
   "id": "faeeb650",
   "metadata": {},
   "source": [
    "> Note, we use `force_undirected=True` to create a symmetric adjacency matrix meaning graph edges are not directional. If node A is connected to node B then vice versa is true also."
   ]
  },
  {
   "cell_type": "markdown",
   "id": "62c8a12b",
   "metadata": {},
   "source": [
    "# The neural network (GCN)"
   ]
  },
  {
   "cell_type": "markdown",
   "id": "699c72af",
   "metadata": {},
   "source": [
    "In `train.py` you will find a class named `GCN`. It is an implementation based on a popular geometric neural network from [Kipf and Welling](https://arxiv.org/abs/1609.02907)."
   ]
  },
  {
   "cell_type": "markdown",
   "id": "426288d0",
   "metadata": {},
   "source": [
    "## Graph convolutional layer"
   ]
  },
  {
   "cell_type": "markdown",
   "id": "8d462dca",
   "metadata": {},
   "source": [
    "It has two graph convolutional layers, each of which use `torch_geometric.nn`'s `GCNConv` layer (with documentation [here](https://pytorch-geometric.readthedocs.io/en/latest/generated/torch_geometric.nn.conv.GCNConv.html)).\n",
    "\n",
    "Mathematically it implements:"
   ]
  },
  {
   "cell_type": "markdown",
   "id": "ca3f07dc",
   "metadata": {},
   "source": [
    "$$\\mathbf{X}^{\\prime} = \\mathbf{\\hat{D}}^{-1/2} \\mathbf{\\hat{A}}\n",
    "\\mathbf{\\hat{D}}^{-1/2} \\mathbf{X} \\mathbf{\\Theta},$$"
   ]
  },
  {
   "cell_type": "markdown",
   "id": "36ef0b73",
   "metadata": {},
   "source": [
    "where $\\mathbf{X}^{\\prime}$ is the layer output, $\\mathbf{\\hat{D}}$ and $\\mathbf{\\hat{A}}$ are function's of the graph's adjacency matrix, $\\mathbf{X}$ is the input features and $\\mathbf{\\Theta}$ are the layer's parameters to be optimised."
   ]
  },
  {
   "cell_type": "markdown",
   "id": "a13fa3f7",
   "metadata": {},
   "source": [
    "$\\mathbf{X}$ has $N$ rows and $C$ columns where $N$ is the number of nodes in the graph and $C$ is the number of features describing each node.\n",
    "\n",
    "$\\mathbf{\\Theta}$ has $C$ rows and $F$ features. You can choose $F$, it gives the number of output features per node in the layer's output."
   ]
  },
  {
   "cell_type": "markdown",
   "id": "f330e2b9",
   "metadata": {},
   "source": [
    "The operation $\\mathbf{\\hat{D}}^{-1/2} \\mathbf{\\hat{A}}\n",
    "\\mathbf{\\hat{D}}^{-1/2}$ is essentially a messsage passing step. The resulting output feature will be a weighted sum of the features of all the nodes in the imediate 1-hop vicinity of the given node.\n",
    "\n",
    "Think of it as a propagation/sharing/smoothing of features in the local area of the graph."
   ]
  },
  {
   "cell_type": "markdown",
   "id": "5744761d",
   "metadata": {},
   "source": [
    "In some applications where the graph doesn't change, it makes sense to compute $\\mathbf{\\hat{D}}^{-1/2} \\mathbf{\\hat{A}}\n",
    "\\mathbf{\\hat{D}}^{-1/2}$ only once and to store it:\n",
    "\n",
    "```\n",
    "        self._gcn0 = GCNConv(\n",
    "            ...\n",
    "            cached=True,\n",
    "            ...\n",
    "        )\n",
    "```\n",
    "\n",
    "This is what the `cached=True` argument does. If you need to compute $\\mathbf{\\hat{D}}^{-1/2} \\mathbf{\\hat{A}}\n",
    "\\mathbf{\\hat{D}}^{-1/2}$ each forward pass then set `cached=False`."
   ]
  },
  {
   "cell_type": "markdown",
   "id": "56a0ec20",
   "metadata": {},
   "source": [
    "## Output activation functions"
   ]
  },
  {
   "cell_type": "markdown",
   "id": "51a42de1",
   "metadata": {},
   "source": [
    "$$\\text{Softmax}(x_{i}) = \\frac{\\exp(x_i)}{\\sum_j \\exp(x_j)}$$"
   ]
  },
  {
   "cell_type": "markdown",
   "id": "70a09912",
   "metadata": {},
   "source": [
    "For a classification task the softmax output activation function is generally chosen.\n",
    "Given a vector input it outputs a vector with entries that lie between 0 and 1 and when summed the entries equal 1. It can therefore be used to represent a probability distribution with each entry representing the probability that the model input belongs to the ith class."
   ]
  },
  {
   "cell_type": "markdown",
   "id": "04ea18f1",
   "metadata": {},
   "source": [
    "For a regression task you can use a linear activation function (i.e. no activation function at all) since the output does not necessarily lie within a specific range (for most applications)."
   ]
  },
  {
   "cell_type": "markdown",
   "id": "d7674b66",
   "metadata": {},
   "source": [
    "## Model hyperparameters"
   ]
  },
  {
   "cell_type": "markdown",
   "id": "5143cf77",
   "metadata": {},
   "source": [
    "* number of channels, $C$ (i.e. how many features in the output of first GCNConv layer)\n",
    "* dropout_rate\n",
    "    * The GCN model has [dropout layers](https://pytorch.org/docs/stable/generated/torch.nn.Dropout.html). By default it is set to 0.5 but this can be varied from 0 to closer to 1.\n",
    "* activation function\n",
    "    * By default, the `relu` activation function is the non-linear activation function applied at the output of the first GCNConv layer. Other possible activation functions include Hyperbolic Tangent (Tanh), LeakyReLU, ...\n",
    "* use_bias `True` vs `False`\n",
    "    * If true then layer has additional parameters to learn i.e. an additive bias so that layer gives essentially a vector with $C$ entries which is added to each row of matrix given by $\\mathbf{\\hat{D}}^{-1/2} \\mathbf{\\hat{A}}\n",
    "\\mathbf{\\hat{D}}^{-1/2} \\mathbf{X} \\mathbf{\\Theta}$"
   ]
  },
  {
   "cell_type": "markdown",
   "id": "90244c53",
   "metadata": {},
   "source": [
    "# Learning/optimisation"
   ]
  },
  {
   "cell_type": "markdown",
   "id": "f78c7e17",
   "metadata": {},
   "source": [
    "In `train.py` there are two training functions, one for the regression task, one for the classification task.\n",
    "\n",
    "Except for specific details they follow a similar pattern which we will go through now."
   ]
  },
  {
   "cell_type": "markdown",
   "id": "dc77a8d1",
   "metadata": {},
   "source": [
    "## Load the dataset"
   ]
  },
  {
   "cell_type": "markdown",
   "id": "e13c2175",
   "metadata": {},
   "source": [
    "```\n",
    "# Load data\n",
    "dataset = AirQualityClassification(\n",
    "    seed=seed, pre_transform=T.KNNGraph(k=10, force_undirected=True), train_ratio=0.2, val_ratio=0.1\n",
    ")\n",
    "```"
   ]
  },
  {
   "cell_type": "markdown",
   "id": "6e7568fd",
   "metadata": {},
   "source": [
    "The `seed` argument determines the random splits (i.e. train/validation/test sets). If you change the seed you will split the datset differently."
   ]
  },
  {
   "cell_type": "markdown",
   "id": "bdcf7d0a",
   "metadata": {},
   "source": [
    "The `pre_transform=T.KNNGraph(k=10, force_undirected=True)` argument (as detailed earlier) defines that we want the a `KNNGraph` to be constructed connecting nearby nodes according to the dataset's `pos` property."
   ]
  },
  {
   "cell_type": "markdown",
   "id": "b7e90bad",
   "metadata": {},
   "source": [
    "## Create an untrained model"
   ]
  },
  {
   "cell_type": "markdown",
   "id": "2de4c7eb",
   "metadata": {},
   "source": [
    "```\n",
    "# Load an untrained model as described by the GCN class\n",
    "model = GCN(n_labels=n_classes, channels=32, output_activation=\"softmax\", use_bias=True)\n",
    "```"
   ]
  },
  {
   "cell_type": "markdown",
   "id": "93cd594b",
   "metadata": {},
   "source": [
    "`n_labels` defines how many outputs we want (1 for regression or 1 per class for classification."
   ]
  },
  {
   "cell_type": "markdown",
   "id": "e0d978f5",
   "metadata": {},
   "source": [
    "`channels` is essentially $C$, the number of features in the output of first GCNConv layer"
   ]
  },
  {
   "cell_type": "markdown",
   "id": "450c88c6",
   "metadata": {},
   "source": [
    "## Create an `optimizer`"
   ]
  },
  {
   "cell_type": "markdown",
   "id": "c91f6596",
   "metadata": {},
   "source": [
    "```\n",
    "optimizer = torch.optim.Adam(model.parameters(), lr=learning_rate, weight_decay=2.5e-4)\n",
    "```"
   ]
  },
  {
   "cell_type": "markdown",
   "id": "9757b68a",
   "metadata": {},
   "source": [
    "There are many [optimizer choices](https://pytorch.org/docs/stable/optim.html) but the `Adam` algorithm is usually safe first choice.\n",
    "\n",
    "The `learning_rate` essentially describes how large the update steps are during the optimisation. Too large and the optimisation may fail to converge. Too small and it will take a long time to converge.\n",
    "\n",
    "`weight_decay` is an L2 penalty (also described as regularization) which discourages model parameters with very large values."
   ]
  },
  {
   "cell_type": "markdown",
   "id": "e79a57d5",
   "metadata": {},
   "source": [
    "## Choose a loss function"
   ]
  },
  {
   "cell_type": "markdown",
   "id": "a29b56a7",
   "metadata": {},
   "source": [
    "```\n",
    "criterion = torch.nn.CrossEntropyLoss()  # cross entropy loss (for classification)\n",
    "```"
   ]
  },
  {
   "cell_type": "markdown",
   "id": "18f54a0d",
   "metadata": {},
   "source": [
    "It is the loss function which is minimised in order to train the model. It is important to choose a loss function which rewards models that provide desirable outputs.\n",
    "\n",
    "For a classification task, [CrossEntropyLoss](https://pytorch.org/docs/stable/generated/torch.nn.CrossEntropyLoss.html) is a common choice. It penalises against predictions which assign low probability to a class which the training label says was true and vice versa.\n",
    "\n",
    "For a regression task, something like [MSELoss](https://pytorch.org/docs/stable/generated/torch.nn.MSELoss.html) or [L1Loss](https://pytorch.org/docs/stable/generated/torch.nn.L1Loss.html#torch.nn.L1Loss) is a good place to start."
   ]
  },
  {
   "cell_type": "markdown",
   "id": "2c98ee44",
   "metadata": {},
   "source": [
    "## Optimisation loop"
   ]
  },
  {
   "cell_type": "markdown",
   "id": "d22d4ce6",
   "metadata": {},
   "source": [
    "```\n",
    "for epoch in range(epochs):\n",
    "    optimizer.zero_grad()  # Clear gradients.\n",
    "\n",
    "    output = model(data)  # Perform a single forward pass.\n",
    "\n",
    "    loss = criterion(\n",
    "        output[dataset.mask_tr], data.y[dataset.mask_tr]\n",
    "    )  # Compute the loss solely based on the training nodes.\n",
    "\n",
    "    loss.backward()  # Derive gradients.\n",
    "\n",
    "    optimizer.step()  # Update parameters based on gradients (back-propagation).\n",
    "\n",
    "    with torch.no_grad():  # don't track gradients during validation\n",
    "        output = model(data)\n",
    "        val_loss = criterion(\n",
    "            output[dataset.mask_va], data.y[dataset.mask_va]\n",
    "        )  # Compute the loss solely based on the validation nodes.\n",
    "        if (\n",
    "            best_val_loss is None or val_loss <= best_val_loss\n",
    "        ):  # if validation loss is better than previous best, reset patience\n",
    "            torch.save(model, \"models/best_regression_model.pt\")  # checkpoint model\n",
    "            best_val_loss = val_loss\n",
    "            val_loss_patience = 0\n",
    "        else:\n",
    "            val_loss_patience += 1\n",
    "            if (\n",
    "                val_loss_patience >= patience\n",
    "            ):  # if validation loss hasn't improved in patience epochs, stop training\n",
    "                break\n",
    "\n",
    "    if (epoch + 1) % print_every == 0:  # every print_every epochs\n",
    "        print(f\"Epoch {epoch + 1}: loss: {loss:.3f} val_loss: {val_loss:.3f}\")\n",
    "\n",
    "```"
   ]
  },
  {
   "cell_type": "markdown",
   "id": "c0a6bdf6",
   "metadata": {},
   "source": [
    "The validation set is monitored during training to determine when to break out.\n",
    "\n",
    "Gradients are not computed on the validation set. When the validation loss stops improving or starts to grow, it indicates that we are beginning to overfit the training data.\n",
    "\n",
    "If left to continue overfitting, our model will likely generalise poorly. The test set predictions are not likely to be accurate."
   ]
  },
  {
   "cell_type": "markdown",
   "id": "26ef60d9",
   "metadata": {},
   "source": [
    "## Training hyperparameters"
   ]
  },
  {
   "cell_type": "markdown",
   "id": "5ef90d87",
   "metadata": {},
   "source": [
    "* choice of optimiser\n",
    "* `learning_rate`\n",
    "    * How big do we want our parameter step sizes to be?\n",
    "* `weight_decay`\n",
    "    * How heavily do we want penalise large magnitude model parameters? A form or regularization i.e. should help prevent overfitting\n",
    "* `patience`\n",
    "    * How many successive epochs do we allow the validation loss to not improve before breaking out from optimisation loop?"
   ]
  },
  {
   "cell_type": "markdown",
   "id": "767968e3",
   "metadata": {},
   "source": [
    "## Loading our regression dataset: the `process()` method"
   ]
  },
  {
   "cell_type": "markdown",
   "id": "646f30bb",
   "metadata": {},
   "source": [
    "### Inputs (air quality values)"
   ]
  },
  {
   "cell_type": "code",
   "execution_count": 15,
   "id": "5a71b62b",
   "metadata": {},
   "outputs": [],
   "source": [
    "import utils\n",
    "\n",
    "pm25 = utils.open_pm25()"
   ]
  },
  {
   "cell_type": "code",
   "execution_count": 16,
   "id": "3903b56c",
   "metadata": {},
   "outputs": [
    {
     "name": "stdout",
     "output_type": "stream",
     "text": [
      "(45, 65, 2208)\n"
     ]
    }
   ],
   "source": [
    "print(pm25.shape)"
   ]
  },
  {
   "cell_type": "markdown",
   "id": "673fde93",
   "metadata": {},
   "source": [
    "In this case we are loading [CAMS data](https://atmosphere.copernicus.eu/cams-air-quality-data-quality-assured) (a forecast) for the surface level PM2.5 concentration.\n",
    "\n",
    "These files are found in the folder `data/PM2_5`."
   ]
  },
  {
   "cell_type": "markdown",
   "id": "1bd53dc9",
   "metadata": {},
   "source": [
    "For each `.tif` file in the folder we have a matrix of PM2.5 concentrations over a region in North Italy. There is a file for each hour of the day for 92 days.\n",
    "\n",
    "The data is quite coarse (each pixel represents 10x10km area) so each matrix is of shape 45x65 and we have 2208 temporal data points. The result is an array of shape 45x65x2208."
   ]
  },
  {
   "cell_type": "code",
   "execution_count": 17,
   "id": "eac6a341",
   "metadata": {},
   "outputs": [],
   "source": [
    "import matplotlib.pyplot as plt"
   ]
  },
  {
   "cell_type": "markdown",
   "id": "8b2d8be0",
   "metadata": {},
   "source": [
    "Time series visualisation:"
   ]
  },
  {
   "cell_type": "code",
   "execution_count": 18,
   "id": "a1b08214",
   "metadata": {},
   "outputs": [
    {
     "data": {
      "text/plain": [
       "Text(0, 0.5, 'PM2.5 concentration')"
      ]
     },
     "execution_count": 18,
     "metadata": {},
     "output_type": "execute_result"
    },
    {
     "data": {
      "image/png": "[encoded data removed]",
      "text/plain": [
       "<Figure size 432x288 with 1 Axes>"
      ]
     },
     "metadata": {
      "needs_background": "light"
     },
     "output_type": "display_data"
    }
   ],
   "source": [
    "for series in pm25.reshape(-1, pm25.shape[-1])[:10]:\n",
    "    plt.plot(series, lw=.1, marker='x')\n",
    "plt.xlim(0, 10)\n",
    "plt.xlabel(\"Hour\")\n",
    "plt.ylabel(\"PM2.5 concentration\")"
   ]
  },
  {
   "cell_type": "markdown",
   "id": "2c5a0746",
   "metadata": {},
   "source": [
    "Single time stamp (i.e. region of North Italy)"
   ]
  },
  {
   "cell_type": "code",
   "execution_count": 19,
   "id": "c27c2fd4",
   "metadata": {},
   "outputs": [
    {
     "data": {
      "text/plain": [
       "<matplotlib.colorbar.Colorbar at 0x7f596435d310>"
      ]
     },
     "execution_count": 19,
     "metadata": {},
     "output_type": "execute_result"
    },
    {
     "data": {
      "image/png": "[encoded data removed]",
      "text/plain": [
       "<Figure size 416x288 with 2 Axes>"
      ]
     },
     "metadata": {
      "needs_background": "light"
     },
     "output_type": "display_data"
    }
   ],
   "source": [
    "mappable = plt.matshow(pm25[..., -1])\n",
    "plt.colorbar(mappable)"
   ]
  },
  {
   "cell_type": "markdown",
   "id": "abaaae93",
   "metadata": {},
   "source": [
    "### Outputs (DEM/height above sea level)"
   ]
  },
  {
   "cell_type": "code",
   "execution_count": 20,
   "id": "09dd15fb",
   "metadata": {},
   "outputs": [
    {
     "name": "stdout",
     "output_type": "stream",
     "text": [
      "(45, 65)\n"
     ]
    }
   ],
   "source": [
    "dem = utils.open_dem()\n",
    "print(land_cover.shape)"
   ]
  },
  {
   "cell_type": "markdown",
   "id": "19fda944",
   "metadata": {},
   "source": [
    "In this demonstration we have a toy example: to try and predict height above sea level from our air quality time series. The values in this case are provided by a downsampled [Copernicus DEM](https://spacedata.copernicus.eu/collections/copernicus-digital-elevation-model)."
   ]
  },
  {
   "cell_type": "code",
   "execution_count": 21,
   "id": "e36541c5",
   "metadata": {},
   "outputs": [
    {
     "data": {
      "text/plain": [
       "<matplotlib.colorbar.Colorbar at 0x7f5964402fa0>"
      ]
     },
     "execution_count": 21,
     "metadata": {},
     "output_type": "execute_result"
    },
    {
     "data": {
      "image/png": "[encoded data removed]",
      "text/plain": [
       "<Figure size 416x288 with 2 Axes>"
      ]
     },
     "metadata": {
      "needs_background": "light"
     },
     "output_type": "display_data"
    }
   ],
   "source": [
    "mappable = plt.matshow(dem)\n",
    "plt.colorbar(mappable)"
   ]
  },
  {
   "cell_type": "markdown",
   "id": "0c8cdc0d",
   "metadata": {},
   "source": [
    "### Variable normalisation"
   ]
  },
  {
   "cell_type": "markdown",
   "id": "d040deb8",
   "metadata": {},
   "source": [
    "In this example as well as normalising our input features (PM2.5 concentrations), we also normalise the outputs by performing min/max scaling to keep variables in the range 0 to 1.\n",
    "\n",
    "As mentioned before, min/max scaling is sensitive to outliers so you may want to consider other more robust normalisation methods.\n",
    "\n",
    "**We must remember to reverse this normalisation if we want to consider the model outputs in the original scale of meters above sea level**"
   ]
  },
  {
   "cell_type": "code",
   "execution_count": null,
   "id": "4324b8d4",
   "metadata": {},
   "outputs": [],
   "source": []
  }
 ],
 "metadata": {
  "kernelspec": {
   "display_name": "Python 3 (ipykernel)",
   "language": "python",
   "name": "python3"
  },
  "language_info": {
   "codemirror_mode": {
    "name": "ipython",
    "version": 3
   },
   "file_extension": ".py",
   "mimetype": "text/x-python",
   "name": "python",
   "nbconvert_exporter": "python",
   "pygments_lexer": "ipython3",
   "version": "3.11.5"
  }
 },
 "nbformat": 4,
 "nbformat_minor": 5
}
